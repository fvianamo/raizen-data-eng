{
 "cells": [
  {
   "cell_type": "code",
   "execution_count": 1,
   "id": "b6774f7c-cd11-44fd-b7f8-3264cc98ed93",
   "metadata": {},
   "outputs": [],
   "source": [
    "import pandas as pd\n",
    "import xlrd\n",
    "import re\n",
    "from datetime import datetime"
   ]
  },
  {
   "cell_type": "code",
   "execution_count": 2,
   "id": "9db52680-c1ca-4ced-9b70-595958586d7a",
   "metadata": {},
   "outputs": [],
   "source": [
    "def stack_dataframe(df, dim_cols, del_cols):\n",
    "    \"\"\"\n",
    "    Função retorna lista de dataframes após processo de unpivot\n",
    "    :Params:\n",
    "    df: DataFrame original\n",
    "    dim_cols: colunas de dimensão\n",
    "    del_cols: colunas a serem desconsideradas\n",
    "    \"\"\"\n",
    "    dfs = []\n",
    "    month_mapper = {'Jan': '1',\n",
    "                    'Fev': '2',\n",
    "                    'Mar': '3',\n",
    "                    'Abr': '4',\n",
    "                    'Mai': '5',\n",
    "                    'Jun': '6',\n",
    "                    'Jul': '7',\n",
    "                    'Ago': '8',\n",
    "                    'Set': '9',\n",
    "                    'Out': '10',\n",
    "                    'Nov': '11',\n",
    "                    'Dez': '12'}\n",
    "    for col in [el for el in df.columns if el not in (dim_cols + del_cols)]:\n",
    "        tmp_df = df[dim_cols[:] + [col]]\n",
    "        tmp_df['volume'] = tmp_df[col]\n",
    "        tmp_df['mes'] = tmp_df.apply(lambda row: f'{row[\"ANO\"]}-{month_mapper[col]}', axis=1)\n",
    "        del tmp_df[col]\n",
    "        del tmp_df['ANO']\n",
    "        dfs.append(tmp_df)\n",
    "    return dfs"
   ]
  },
  {
   "cell_type": "code",
   "execution_count": 3,
   "id": "eeb5fa1c-2d02-4972-96b4-7989ca25b0af",
   "metadata": {},
   "outputs": [],
   "source": [
    "def get_unit(value, regex_exp=r'\\(([^\\)]+)\\)', del_chars=['(', ')']):\n",
    "    \"\"\"\n",
    "    Função retorna a unidade de medida do combustível via regex\n",
    "    :Params:\n",
    "    value: string do nome do combustível\n",
    "    regex_exp: expressão regex para captura da medida, padrão é entre parenteses\n",
    "    del_chars: lista de caracteres a serem retirados do valor de unidade\n",
    "    \"\"\"\n",
    "    res = re.search(regex_exp, value)\n",
    "    if res:\n",
    "        unit = res[0]\n",
    "        for char in del_chars:\n",
    "            unit = unit.replace(char, '')\n",
    "        return unit\n",
    "    return None"
   ]
  },
  {
   "cell_type": "markdown",
   "id": "14ac0dbd-d4a8-4b73-8ac6-fa6dfa5dc4f0",
   "metadata": {},
   "source": [
    "## Stacking DataFrames\n",
    "A célula abaixo parte das planilhas, realizando o processo de unpivot dos dois DataFrames e os concatena ao final"
   ]
  },
  {
   "cell_type": "code",
   "execution_count": 4,
   "id": "7ba4d53c-7d0e-4ab3-8440-f5257f4be5a9",
   "metadata": {},
   "outputs": [
    {
     "name": "stderr",
     "output_type": "stream",
     "text": [
      "<ipython-input-2-8b0112c7b80a>:24: SettingWithCopyWarning: \n",
      "A value is trying to be set on a copy of a slice from a DataFrame.\n",
      "Try using .loc[row_indexer,col_indexer] = value instead\n",
      "\n",
      "See the caveats in the documentation: https://pandas.pydata.org/pandas-docs/stable/user_guide/indexing.html#returning-a-view-versus-a-copy\n",
      "  tmp_df['volume'] = tmp_df[col]\n",
      "<ipython-input-2-8b0112c7b80a>:25: SettingWithCopyWarning: \n",
      "A value is trying to be set on a copy of a slice from a DataFrame.\n",
      "Try using .loc[row_indexer,col_indexer] = value instead\n",
      "\n",
      "See the caveats in the documentation: https://pandas.pydata.org/pandas-docs/stable/user_guide/indexing.html#returning-a-view-versus-a-copy\n",
      "  tmp_df['mes'] = tmp_df.apply(lambda row: f'{row[\"ANO\"]}-{month_mapper[col]}', axis=1)\n"
     ]
    }
   ],
   "source": [
    "df_fuels = pd.read_excel('vendas-combustiveis-m3.xls', sheet_name=1)\n",
    "df_diesel = pd.read_excel('vendas-combustiveis-m3.xls', sheet_name=2)\n",
    "\n",
    "stacked_diesel_df = pd.concat(stack_dataframe(df_diesel, ['COMBUSTÍVEL', 'ANO', 'ESTADO', 'REGIÃO'], ['TOTAL']))\n",
    "stacked_fuels_df = pd.concat(stack_dataframe(df_fuels, ['COMBUSTÍVEL', 'ANO', 'ESTADO', 'REGIÃO'], ['TOTAL']))\n",
    "\n",
    "df = pd.concat([stacked_diesel_df, stacked_fuels_df])"
   ]
  },
  {
   "cell_type": "markdown",
   "id": "e2d2e39b-1e28-41a3-a543-ca04e94b627f",
   "metadata": {},
   "source": [
    "## Shaping DataFrame\n",
    "A célula abaixo formata os dados no padrão requisitados, realizando processos de:\n",
    "* Renomeação de colunas\n",
    "* Ajuste de tipo de dados\n",
    "* Extração de features"
   ]
  },
  {
   "cell_type": "code",
   "execution_count": 5,
   "id": "d8d9a5d4-6f44-46d7-a65f-89ed335c57b3",
   "metadata": {},
   "outputs": [],
   "source": [
    "df['unit'] = df.apply(lambda row: get_unit(row['COMBUSTÍVEL']), axis=1)\n",
    "df['year_month'] = df.apply(lambda row: datetime.strptime(row['mes'], '%Y-%m'), axis=1)\n",
    "\n",
    "agg_df = df.groupby(['year_month', 'ESTADO', 'COMBUSTÍVEL', 'unit']).sum('volume').reset_index()\n",
    "\n",
    "agg_df = agg_df.rename(columns={'ESTADO': 'uf', 'COMBUSTÍVEL': 'product'})\n",
    "\n",
    "agg_df['year'] = agg_df['year_month'].dt.year\n",
    "agg_df['created_at'] = datetime.now()"
   ]
  },
  {
   "cell_type": "markdown",
   "id": "a60ae668-c0f2-4e89-8ad9-a9f4d4b853b3",
   "metadata": {},
   "source": [
    "## Integrity Check\n",
    "A célula abaixo compara os valores de totais do combustíveis das planilhas originais com o valores no DataFrame resultante do processo de transformação"
   ]
  },
  {
   "cell_type": "code",
   "execution_count": 6,
   "id": "886457db-68b7-408c-b0dd-f55fd7115611",
   "metadata": {},
   "outputs": [
    {
     "data": {
      "text/html": [
       "<div>\n",
       "<style scoped>\n",
       "    .dataframe tbody tr th:only-of-type {\n",
       "        vertical-align: middle;\n",
       "    }\n",
       "\n",
       "    .dataframe tbody tr th {\n",
       "        vertical-align: top;\n",
       "    }\n",
       "\n",
       "    .dataframe thead th {\n",
       "        text-align: right;\n",
       "    }\n",
       "</style>\n",
       "<table border=\"1\" class=\"dataframe\">\n",
       "  <thead>\n",
       "    <tr style=\"text-align: right;\">\n",
       "      <th></th>\n",
       "      <th>volume</th>\n",
       "      <th>TOTAL</th>\n",
       "    </tr>\n",
       "    <tr>\n",
       "      <th>product</th>\n",
       "      <th></th>\n",
       "      <th></th>\n",
       "    </tr>\n",
       "  </thead>\n",
       "  <tbody>\n",
       "    <tr>\n",
       "      <th>ETANOL HIDRATADO (m3)</th>\n",
       "      <td>4.298877e+08</td>\n",
       "      <td>3.406194e+07</td>\n",
       "    </tr>\n",
       "    <tr>\n",
       "      <th>GASOLINA C (m3)</th>\n",
       "      <td>1.209812e+09</td>\n",
       "      <td>1.022497e+08</td>\n",
       "    </tr>\n",
       "    <tr>\n",
       "      <th>GASOLINA DE AVIAÇÃO (m3)</th>\n",
       "      <td>2.365254e+06</td>\n",
       "      <td>1.893234e+05</td>\n",
       "    </tr>\n",
       "    <tr>\n",
       "      <th>GLP (m3)</th>\n",
       "      <td>4.827797e+08</td>\n",
       "      <td>4.201662e+07</td>\n",
       "    </tr>\n",
       "    <tr>\n",
       "      <th>QUEROSENE DE AVIAÇÃO (m3)</th>\n",
       "      <td>2.210647e+08</td>\n",
       "      <td>1.674294e+07</td>\n",
       "    </tr>\n",
       "    <tr>\n",
       "      <th>QUEROSENE ILUMINANTE (m3)</th>\n",
       "      <td>1.986087e+06</td>\n",
       "      <td>2.360802e+05</td>\n",
       "    </tr>\n",
       "    <tr>\n",
       "      <th>ÓLEO COMBUSTÍVEL (m3)</th>\n",
       "      <td>1.942207e+08</td>\n",
       "      <td>1.630406e+07</td>\n",
       "    </tr>\n",
       "    <tr>\n",
       "      <th>ÓLEO DIESEL (OUTROS ) (m3)</th>\n",
       "      <td>3.927839e+05</td>\n",
       "      <td>2.931939e+04</td>\n",
       "    </tr>\n",
       "    <tr>\n",
       "      <th>ÓLEO DIESEL (m3)</th>\n",
       "      <td>1.829433e+09</td>\n",
       "      <td>1.551037e+08</td>\n",
       "    </tr>\n",
       "    <tr>\n",
       "      <th>ÓLEO DIESEL MARÍTIMO (m3)</th>\n",
       "      <td>1.056971e+07</td>\n",
       "      <td>1.041511e+06</td>\n",
       "    </tr>\n",
       "    <tr>\n",
       "      <th>ÓLEO DIESEL S-10 (m3)</th>\n",
       "      <td>2.787311e+08</td>\n",
       "      <td>2.143551e+07</td>\n",
       "    </tr>\n",
       "    <tr>\n",
       "      <th>ÓLEO DIESEL S-1800 (m3)</th>\n",
       "      <td>4.889526e+07</td>\n",
       "      <td>3.538770e+06</td>\n",
       "    </tr>\n",
       "    <tr>\n",
       "      <th>ÓLEO DIESEL S-500 (m3)</th>\n",
       "      <td>4.735165e+08</td>\n",
       "      <td>4.214062e+07</td>\n",
       "    </tr>\n",
       "  </tbody>\n",
       "</table>\n",
       "</div>"
      ],
      "text/plain": [
       "                                  volume         TOTAL\n",
       "product                                               \n",
       "ETANOL HIDRATADO (m3)       4.298877e+08  3.406194e+07\n",
       "GASOLINA C (m3)             1.209812e+09  1.022497e+08\n",
       "GASOLINA DE AVIAÇÃO (m3)    2.365254e+06  1.893234e+05\n",
       "GLP (m3)                    4.827797e+08  4.201662e+07\n",
       "QUEROSENE DE AVIAÇÃO (m3)   2.210647e+08  1.674294e+07\n",
       "QUEROSENE ILUMINANTE (m3)   1.986087e+06  2.360802e+05\n",
       "ÓLEO COMBUSTÍVEL (m3)       1.942207e+08  1.630406e+07\n",
       "ÓLEO DIESEL (OUTROS ) (m3)  3.927839e+05  2.931939e+04\n",
       "ÓLEO DIESEL (m3)            1.829433e+09  1.551037e+08\n",
       "ÓLEO DIESEL MARÍTIMO (m3)   1.056971e+07  1.041511e+06\n",
       "ÓLEO DIESEL S-10 (m3)       2.787311e+08  2.143551e+07\n",
       "ÓLEO DIESEL S-1800 (m3)     4.889526e+07  3.538770e+06\n",
       "ÓLEO DIESEL S-500 (m3)      4.735165e+08  4.214062e+07"
      ]
     },
     "execution_count": 6,
     "metadata": {},
     "output_type": "execute_result"
    }
   ],
   "source": [
    "df_raw = pd.concat([df_diesel, df_fuels])\n",
    "agg_raw_df = df_raw[['COMBUSTÍVEL', 'TOTAL']].groupby(['COMBUSTÍVEL']).sum('TOTAL')\n",
    "\n",
    "check_df = agg_df[['product', 'volume']].groupby(['product']).sum('volume')\n",
    "check_df = check_df.merge(agg_raw_df, left_index=True, right_index=True)\n",
    "check_df"
   ]
  },
  {
   "cell_type": "markdown",
   "id": "0d4592e9-850f-4b82-9e3e-50932c923f15",
   "metadata": {},
   "source": [
    "## Persisting Data\n",
    "A célula abaixo persiste o DataFrame em formato Parquet, particionando sobre o produto e ano da informação"
   ]
  },
  {
   "cell_type": "code",
   "execution_count": 7,
   "id": "d2d46933-c50d-4f4c-ada5-62c32e03488d",
   "metadata": {},
   "outputs": [],
   "source": [
    "agg_df.to_parquet('anp-dataset', partition_cols=['product', 'year'])"
   ]
  },
  {
   "cell_type": "code",
   "execution_count": null,
   "id": "5c86ff74-2ff7-4ae3-bcac-0ae5d70b776d",
   "metadata": {},
   "outputs": [],
   "source": []
  }
 ],
 "metadata": {
  "kernelspec": {
   "display_name": "Python 3",
   "language": "python",
   "name": "python3"
  },
  "language_info": {
   "codemirror_mode": {
    "name": "ipython",
    "version": 3
   },
   "file_extension": ".py",
   "mimetype": "text/x-python",
   "name": "python",
   "nbconvert_exporter": "python",
   "pygments_lexer": "ipython3",
   "version": "3.9.4"
  }
 },
 "nbformat": 4,
 "nbformat_minor": 5
}
